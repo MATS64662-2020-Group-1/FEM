{
 "cells": [
  {
   "cell_type": "markdown",
   "metadata": {},
   "source": [
    "# Reading an image file   \n",
    "    Guy Bowker"
   ]
  },
  {
   "cell_type": "markdown",
   "metadata": {},
   "source": [
    "This code takes the .csv file from testcase_IP_V2.0 and makes it a numpy array ready for meshing."
   ]
  },
  {
   "cell_type": "code",
   "execution_count": 145,
   "metadata": {},
   "outputs": [
    {
     "name": "stdout",
     "output_type": "stream",
     "text": [
      "done\n"
     ]
    }
   ],
   "source": [
    "# Import necessary libraries #\n",
    "import numpy as np\n",
    "import matplotlib.pyplot as plt\n",
    "import skimage\n",
    "from skimage import data, io, filters\n",
    "from skimage.color import rgb2gray\n",
    "from skimage import exposure\n",
    "from skimage.filters import sobel\n",
    "from skimage.morphology import watershed\n",
    "from scipy import ndimage as ndi\n",
    "from skimage import measure\n",
    "# tell me when done #\n",
    "print('done')\n"
   ]
  },
  {
   "cell_type": "code",
   "execution_count": 146,
   "metadata": {},
   "outputs": [
    {
     "name": "stdout",
     "output_type": "stream",
     "text": [
      "0.0\n",
      "dimensions of new img (800, 2452)\n",
      "done\n"
     ]
    },
    {
     "data": {
      "image/png": "[encoded data removed]",
      "text/plain": [
       "<Figure size 432x288 with 2 Axes>"
      ]
     },
     "metadata": {
      "needs_background": "light"
     },
     "output_type": "display_data"
    }
   ],
   "source": [
    "# importing an image.csv for meshing: #\n",
    "\n",
    "# ------------ user inputs image.csv file here ----------- #\n",
    "img = np.genfromtxt('new_img_greyscale.csv', delimiter=',')\n",
    "grains, _ = ndi.label(img)\n",
    "# -------------------------------------------------------- #\n",
    "\n",
    "print(img[0,0]) # find value of point in img with x,y input\n",
    "\n",
    "print('dimensions of new img', img.shape)\n",
    "io.imshow(img, cmap=plt.get_cmap(\"gray\"))\n",
    "print('done')"
   ]
  },
  {
   "cell_type": "markdown",
   "metadata": {},
   "source": [
    "## Mesh building..."
   ]
  },
  {
   "cell_type": "code",
   "execution_count": 21,
   "metadata": {},
   "outputs": [],
   "source": [
    "# in progress #"
   ]
  }
 ],
 "metadata": {
  "kernelspec": {
   "display_name": "Python 3",
   "language": "python",
   "name": "python3"
  },
  "language_info": {
   "codemirror_mode": {
    "name": "ipython",
    "version": 3
   },
   "file_extension": ".py",
   "mimetype": "text/x-python",
   "name": "python",
   "nbconvert_exporter": "python",
   "pygments_lexer": "ipython3",
   "version": "3.7.6"
  }
 },
 "nbformat": 4,
 "nbformat_minor": 4
}
